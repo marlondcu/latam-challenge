{
 "cells": [
  {
   "cell_type": "markdown",
   "metadata": {},
   "source": [
    "En este archivo puedes escribir lo que estimes conveniente. Te recomendamos detallar tu solución y todas las suposiciones que estás considerando. Aquí puedes ejecutar las funciones que definiste en los otros archivos de la carpeta src, medir el tiempo, memoria, etc."
   ]
  },
  {
   "cell_type": "code",
   "execution_count": 1,
   "metadata": {},
   "outputs": [],
   "source": [
    "file_path = \"farmers-protest-tweets-2021-2-4.json\""
   ]
  },
  {
   "cell_type": "markdown",
   "metadata": {},
   "source": [
    "# testing\n",
    "## testing\n",
    "### testing"
   ]
  },
  {
   "cell_type": "code",
   "execution_count": 2,
   "metadata": {},
   "outputs": [],
   "source": [
    "import json\n",
    "from datetime import datetime\n",
    "from collections import defaultdict\n",
    "from typing import List, Tuple\n",
    "import time\n",
    "#%timeit\n",
    "def q1_time(file_path: str) -> List[Tuple[datetime.date, str]]:\n",
    "    #start_time = time.time()  # Record the start time\n",
    "    \n",
    "    date_tweet_count = defaultdict(int)\n",
    "    date_user_tweets = defaultdict(lambda: defaultdict(int))\n",
    "\n",
    "    with open(file_path, 'r', encoding='utf-8') as json_file:\n",
    "        for line in json_file:\n",
    "            tweet = json.loads(line)\n",
    "            date_str = tweet[\"date\"][:10]  # Extract date part from the datetime string\n",
    "            date_tweet_count[date_str] += 1\n",
    "            date_user_tweets[date_str][tweet[\"user\"][\"username\"]] += 1\n",
    "\n",
    "    top_dates_users = []\n",
    "    for date, user_tweets in date_user_tweets.items():\n",
    "        top_user = max(user_tweets, key=user_tweets.get)\n",
    "        top_dates_users.append((datetime.strptime(date, '%Y-%m-%d').date(), top_user))\n",
    "\n",
    "    #end_time = time.time()  # Record the end time\n",
    "    #execution_time = end_time - start_time\n",
    "    #print(f\"Execution Time: {execution_time} seconds\")\n",
    "\n",
    "    return sorted(top_dates_users, key=lambda x: date_tweet_count[x[0]], reverse=True)[:10]\n"
   ]
  },
  {
   "cell_type": "code",
   "execution_count": null,
   "metadata": {},
   "outputs": [],
   "source": [
    "#%prun q1_time(file_path)\n",
    "#%timeit q1_time(file_path)\n",
    "%time q1_time(file_path)\n",
    "\n",
    "\n",
    "#result = q1_time(file_path)\n",
    "#print(result)"
   ]
  },
  {
   "cell_type": "code",
   "execution_count": 3,
   "metadata": {},
   "outputs": [],
   "source": [
    "from memory_profiler import profile\n",
    "\n",
    "@profile\n",
    "def q1_memory(file_path: str) -> List[Tuple[datetime.date, str]]:\n",
    "    date_tweet_count = defaultdict(int)\n",
    "    date_user_tweets = defaultdict(lambda: defaultdict(int))\n",
    "\n",
    "    with open(file_path, 'r', encoding='utf-8') as json_file:\n",
    "        for line in json_file:\n",
    "            tweet = json.loads(line)\n",
    "            date_str = tweet[\"date\"][:10]  # Extract date part from the datetime string\n",
    "            date_tweet_count[date_str] += 1\n",
    "            date_user_tweets[date_str][tweet[\"user\"][\"username\"]] += 1\n",
    "\n",
    "    top_dates_users = []\n",
    "    for date, user_tweets in date_user_tweets.items():\n",
    "        top_user = max(user_tweets, key=user_tweets.get)\n",
    "        top_dates_users.append((datetime.strptime(date, '%Y-%m-%d').date(), top_user))\n",
    "\n",
    "    return sorted(top_dates_users, key=lambda x: date_tweet_count[x[0]], reverse=True)[:10]\n"
   ]
  },
  {
   "cell_type": "code",
   "execution_count": 5,
   "metadata": {},
   "outputs": [],
   "source": [
    "#pip install memory_profiler\n",
    "%load_ext memory_profiler"
   ]
  },
  {
   "cell_type": "code",
   "execution_count": 9,
   "metadata": {},
   "outputs": [
    {
     "data": {
      "text/plain": [
       "[(datetime.date(2021, 2, 24), 'preetysaini321'),\n",
       " (datetime.date(2021, 2, 23), 'Surrypuria'),\n",
       " (datetime.date(2021, 2, 22), 'preetysaini321'),\n",
       " (datetime.date(2021, 2, 21), 'Surrypuria'),\n",
       " (datetime.date(2021, 2, 20), 'MangalJ23056160'),\n",
       " (datetime.date(2021, 2, 19), 'Preetm91'),\n",
       " (datetime.date(2021, 2, 18), 'neetuanjle_nitu'),\n",
       " (datetime.date(2021, 2, 17), 'RaaJVinderkaur'),\n",
       " (datetime.date(2021, 2, 16), 'jot__b'),\n",
       " (datetime.date(2021, 2, 15), 'jot__b')]"
      ]
     },
     "execution_count": 9,
     "metadata": {},
     "output_type": "execute_result"
    }
   ],
   "source": [
    "q1_time(file_path)\n",
    "%memit q1_memory(file_path)\n",
    "#%mprun q1_memory(file_path)\n",
    "\n",
    "#result = q1_time(file_path)\n",
    "#print(result)"
   ]
  },
  {
   "cell_type": "code",
   "execution_count": null,
   "metadata": {},
   "outputs": [],
   "source": [
    "pip uninstall memory-profiler"
   ]
  },
  {
   "cell_type": "code",
   "execution_count": null,
   "metadata": {},
   "outputs": [],
   "source": []
  },
  {
   "cell_type": "code",
   "execution_count": null,
   "metadata": {},
   "outputs": [],
   "source": []
  }
 ],
 "metadata": {
  "kernelspec": {
   "display_name": "Python 3 (ipykernel)",
   "language": "python",
   "name": "python3"
  },
  "language_info": {
   "codemirror_mode": {
    "name": "ipython",
    "version": 3
   },
   "file_extension": ".py",
   "mimetype": "text/x-python",
   "name": "python",
   "nbconvert_exporter": "python",
   "pygments_lexer": "ipython3",
   "version": "3.9.13"
  }
 },
 "nbformat": 4,
 "nbformat_minor": 2
}
